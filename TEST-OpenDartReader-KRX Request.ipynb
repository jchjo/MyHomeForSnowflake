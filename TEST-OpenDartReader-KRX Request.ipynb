{
 "metadata": {
  "kernelspec": {
   "display_name": "Streamlit Notebook",
   "name": "streamlit"
  },
  "lastEditStatus": {
   "notebookId": "vweccxgzrwzb2c2w7v22",
   "authorId": "5145792615293",
   "authorName": "ADMIN",
   "authorEmail": "jungchul.jo@snowflake.com",
   "sessionId": "6628561d-1075-4fb6-a51b-2a05951775ea",
   "lastEditTime": 1747295853154
  }
 },
 "nbformat_minor": 5,
 "nbformat": 4,
 "cells": [
  {
   "cell_type": "markdown",
   "id": "593d9fbe-e124-42b4-adc5-a0e39c0d3265",
   "metadata": {
    "name": "Remark",
    "collapsed": false
   },
   "source": "노트북은 왼쪽 하단의 Switch Role을 통해서 \"jjo_container_runtime_admin\"로 변경 후, 생성함"
  },
  {
   "cell_type": "code",
   "id": "07d55700-c832-4434-9590-328e36a082b4",
   "metadata": {
    "language": "python",
    "name": "install"
   },
   "outputs": [],
   "source": "!pip install opendartreader",
   "execution_count": null
  },
  {
   "cell_type": "code",
   "id": "3775908f-ca36-4846-8f38-5adca39217f2",
   "metadata": {
    "language": "python",
    "name": "cell1"
   },
   "source": "import OpenDartReader\n\n#OpenDartReader 연결\ndart = OpenDartReader('8e2ea4f554fb04049a1dc04f21b28710c8c6c887')\n\n#여기까진 시간이 좀 걸리지만 실행에는 문제가 없고, 아래 코드에서 에러가 납니당\n\ndf_ex = dart.sub_docs('20230331000002')\n\ndf_ex.head(10) \n",
   "execution_count": null,
   "outputs": []
  }
 ]
}